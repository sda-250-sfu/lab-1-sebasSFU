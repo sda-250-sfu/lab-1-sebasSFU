{
 "cells": [
  {
   "cell_type": "markdown",
   "id": "impossible-duncan",
   "metadata": {},
   "source": [
    "## LING 250 / SDA 250 LAB 1\n",
    "\n"
   ]
  },
  {
   "cell_type": "code",
   "execution_count": 1,
   "id": "technological-convergence",
   "metadata": {},
   "outputs": [
    {
     "name": "stdout",
     "output_type": "stream",
     "text": [
      "hello World\n"
     ]
    }
   ],
   "source": [
    "print(\"hello World\")"
   ]
  },
  {
   "cell_type": "code",
   "execution_count": 2,
   "id": "surrounded-eclipse",
   "metadata": {},
   "outputs": [
    {
     "name": "stdout",
     "output_type": "stream",
     "text": [
      "Sebastian Mora\n",
      "Sebastian he/him\n",
      "My favourite number is  1066\n",
      "1136356\n",
      "1076\n",
      "2\n",
      "152.28571428571428\n",
      "152 * 7 + 2 = 1066\n"
     ]
    }
   ],
   "source": [
    "firstname =\"Sebastian\"  \n",
    "lastname =\"Mora\"\n",
    "preferredname =\"Sebastian\"\n",
    "pronouns =\"he/him\" \n",
    "favnumb =1066\n",
    "\n",
    "print( firstname + \" \" + lastname )\n",
    "print( preferredname + \" \" + pronouns )\n",
    "print( \"My favourite number is  %d\" %(favnumb))\n",
    "print(favnumb*favnumb) #simple multiplication \n",
    "print(favnumb + 10)  # simple addition\n",
    "remainder = favnumb%7\n",
    "print(favnumb%7)  # remainder of the favnumb mod 7 \n",
    "quotient = favnumb/7\n",
    "print(favnumb/7 ) #integer division \n",
    "print( \"%d * 7 + %d = %d\" %(quotient, remainder, favnumb)) "
   ]
  },
  {
   "cell_type": "code",
   "execution_count": 1,
   "id": "accessible-hamburg",
   "metadata": {},
   "outputs": [
    {
     "name": "stdout",
     "output_type": "stream",
     "text": [
      "When doing data science there are two major ethical consideration that one must\n",
      " consider. First, establishing how to collect this data in an ethical manner. More\n",
      " speciffically, how to establish that for every piece of data there is a human\n",
      " subject\n",
      " attatched to it. If one is working with publicly available data, or\n",
      " data for which the human subject has given informed consent, consent that is\n",
      " more meaninful than, say, a checkbox at the end of a long legal addendum,\n",
      " then one must consider that the techniques used will not produce information\n",
      " which is outside the scope of what was agreed upon by the human subjects. This\n",
      " is to say, that one must consider how powerful the tools that one is developing\n",
      " are, and that they do not reveal private information. \n"
     ]
    }
   ],
   "source": [
    "print('''When doing data science there are two major ethical consideration that one must\n",
    " consider. First, establishing how to collect this data in an ethical manner. More\n",
    " speciffically, how to establish that for every piece of data there is a human\n",
    " subject\\n attatched to it. If one is working with publicly available data, or\n",
    " data for which the human subject has given informed consent, consent that is\n",
    " more meaninful than, say, a checkbox at the end of a long legal addendum,\n",
    " then one must consider that the techniques used will not produce information\n",
    " which is outside the scope of what was agreed upon by the human subjects. This\n",
    " is to say, that one must consider how powerful the tools that one is developing\n",
    " are, and that they do not reveal private information. ''')"
   ]
  },
  {
   "cell_type": "code",
   "execution_count": null,
   "id": "comparative-hometown",
   "metadata": {},
   "outputs": [],
   "source": []
  }
 ],
 "metadata": {
  "kernelspec": {
   "display_name": "Python 3",
   "language": "python",
   "name": "python3"
  },
  "language_info": {
   "codemirror_mode": {
    "name": "ipython",
    "version": 3
   },
   "file_extension": ".py",
   "mimetype": "text/x-python",
   "name": "python",
   "nbconvert_exporter": "python",
   "pygments_lexer": "ipython3",
   "version": "3.6.9"
  }
 },
 "nbformat": 4,
 "nbformat_minor": 5
}
